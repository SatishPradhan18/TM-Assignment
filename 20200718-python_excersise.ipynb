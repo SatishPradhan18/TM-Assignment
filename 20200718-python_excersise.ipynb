{
 "cells": [
  {
   "cell_type": "markdown",
   "metadata": {},
   "source": [
    "# IF Statements"
   ]
  },
  {
   "cell_type": "markdown",
   "metadata": {},
   "source": [
    "Q1. Write a program that reads an integer from the user. Then your\n",
    "program should display a message indicating whether the integer is\n",
    "even or odd."
   ]
  },
  {
   "cell_type": "code",
   "execution_count": 16,
   "metadata": {},
   "outputs": [
    {
     "name": "stdout",
     "output_type": "stream",
     "text": [
      "Enter a number to check odd or even:32\n",
      "32 is even\n"
     ]
    }
   ],
   "source": [
    "def odd_even(odd_even_input):\n",
    "    if odd_even_input % 2 == 0:\n",
    "        print(\"{} is even\".format(odd_even_input))\n",
    "    else:\n",
    "        print(\"{} is odd\".format(odd_even_input))\n",
    "    return None\n",
    "\n",
    "odd_even_input = int(input(\"Enter a number to check odd or even:\"))\n",
    "\n",
    "odd_even(odd_even_input)"
   ]
  },
  {
   "cell_type": "markdown",
   "metadata": {},
   "source": [
    "Q2. According to the American Veterinary Medical Association: The first year of a medium-sized dog's life is 15 years of a human's life. The second year of a dog's life equals about nine years for a human. And after that, very human year equals approximately five years for a dog.\n",
    "\n",
    "Write a program that implements the conversion from human years to\n",
    "dog years described in the previous paragraph. Ensure that your\n",
    "program works correctly for conversions of less than two human years\n",
    "and for conversions of two or more human years. Your program should\n",
    "display an appropriate error message if the user enters a negative\n",
    "number."
   ]
  },
  {
   "cell_type": "code",
   "execution_count": 24,
   "metadata": {},
   "outputs": [
    {
     "name": "stdout",
     "output_type": "stream",
     "text": [
      "Enter the age of dog in human years:3\n",
      "Dog is 29 years old in dog years\n"
     ]
    }
   ],
   "source": [
    "# function to get dog years based on human years completed by a dog\n",
    "def dog_year_conversion(years):\n",
    "    dog_age = 0\n",
    "    \n",
    "    if years > 2:\n",
    "        dog_age = 15 + 9 + (years - 2)*5\n",
    "    elif years == 2:\n",
    "        dog_age = 15 + 9\n",
    "    elif years == 1:\n",
    "        dog_age = 15\n",
    "    else:\n",
    "        dog_age = 0\n",
    "        \n",
    "    return dog_age        \n",
    "\n",
    "try:\n",
    "    age = int(input(\"Enter the age of dog in human years:\"))\n",
    "    assert age >= 0\n",
    "    \n",
    "    dog_age = dog_year_conversion(age)\n",
    "    print(\"Dog is {} years old in dog years\".format(dog_age))\n",
    "    \n",
    "except ValueError as v_error:\n",
    "    print(\"Issue with input expecting Integer\\n\",v_error)\n",
    "except AssertionError:\n",
    "    print(\"Only postive number allowed. Exiting program\")\n"
   ]
  },
  {
   "cell_type": "markdown",
   "metadata": {},
   "source": [
    "Q3. Create a program that reads a letter of the alphabet from the user. If the\n",
    "user enters a, e, i, o or u then your program should display a message\n",
    "indicating that the entered letter is a vowel. If the user enters y then\n",
    "your program should display a message indicating that sometimes y is a\n",
    "vowel, and sometimes y is a consonant. Otherwise your program should\n",
    "display a message indicating that the letter is a consonant."
   ]
  },
  {
   "cell_type": "code",
   "execution_count": 29,
   "metadata": {},
   "outputs": [
    {
     "name": "stdout",
     "output_type": "stream",
     "text": [
      "Enter a character:A\n",
      "A is a vowel\n"
     ]
    }
   ],
   "source": [
    "def vowel_consonant(letter):\n",
    "    if letter.lower() in ['a','e','i','o','u']:\n",
    "        print(\"{} is a vowel\".format(letter))\n",
    "    elif letter.lower() == \"y\":\n",
    "        print(\"sometimes {} is a vowel, \\\n",
    "        and sometimes {} is a consonant\".format(letter,letter))\n",
    "    else:\n",
    "        print(\"{} is a consonant\".format(letter))\n",
    "        \n",
    "try:\n",
    "    letter  = input(\"Enter a character:\")\n",
    "    assert len(letter) == 1\n",
    "    \n",
    "    vowel_consonant(letter)\n",
    "    \n",
    "except AssertionError:\n",
    "    print(\"Only single character entry allowed\")\n"
   ]
  },
  {
   "cell_type": "markdown",
   "metadata": {},
   "source": [
    "Q4. Write a program that determines the name of a shape from its number\n",
    "of sides. Read the number of sides from the user and then report the\n",
    "appropriate name as part of a meaningful message. Your program\n",
    "should support shapes with anywhere from 3 up to (and including) 10\n",
    "sides. If a number of sides outside of this range is entered then your\n",
    "program should display an appropriate error message"
   ]
  },
  {
   "cell_type": "code",
   "execution_count": 39,
   "metadata": {},
   "outputs": [
    {
     "name": "stdout",
     "output_type": "stream",
     "text": [
      "Enter the number of side:5\n",
      "Polygon with 5 sides is called Pentagon\n"
     ]
    }
   ],
   "source": [
    "polygon_names = {3:\"Triangle\", 4:\"Quadrilateral\", 5:\"Pentagon\", 6:\"Hexagon\",\n",
    "                7: \"Heptagon\", 8:\"Octagon\",9:\"Nonagon\",10:\"Decagon\"}\n",
    "\n",
    "try:\n",
    "    sides = int(input(\"Enter the number of side:\"))\n",
    "    \n",
    "    print(\"Polygon with {} sides is called {}\".\n",
    "          format(sides, polygon_names[sides]))\n",
    "except KeyError:\n",
    "    print(\"Outside Range. Please enter any number between 3 to 10 only\")\n",
    "except ValueError:\n",
    "    print(\"Please enter a integer value only\")\n",
    "    "
   ]
  },
  {
   "cell_type": "markdown",
   "metadata": {},
   "source": [
    "Q5. The length of a month varies from 28 to 31 days. In this exercise you\n",
    "will create a program that reads the name of a month from the user as a\n",
    "string. Then your program should display the number of days in that\n",
    "month. Display “28 or 29 days” for February so that leap years are\n",
    "addressed."
   ]
  },
  {
   "cell_type": "code",
   "execution_count": 48,
   "metadata": {},
   "outputs": [
    {
     "name": "stdout",
     "output_type": "stream",
     "text": [
      "Enter the name of month:Febuary\n",
      "Febuary contains 28 or 29 days\n"
     ]
    }
   ],
   "source": [
    "month = input(\"Enter the name of month:\")\n",
    "days = None\n",
    "if \"jan\" in month.lower():\n",
    "    days = 31\n",
    "elif \"feb\" in month.lower():\n",
    "    days = \"28 or 29\"\n",
    "elif \"mar\" in month.lower():\n",
    "    days = 31\n",
    "elif \"apr\" in month.lower():\n",
    "    days = 30\n",
    "elif \"may\" in month.lower():\n",
    "    days = 31\n",
    "elif \"jun\" in month.lower():\n",
    "    days = 30\n",
    "elif \"jul\" in month.lower():\n",
    "    days = 31\n",
    "elif \"aug\" in month.lower():\n",
    "    days = 31\n",
    "elif \"sep\" in month.lower():\n",
    "    days = 30\n",
    "elif \"oct\" in month.lower():\n",
    "    days = 31\n",
    "elif \"nov\" in month.lower():\n",
    "    days = 30\n",
    "elif \"dec\" in month.lower():\n",
    "    days = 31\n",
    "\n",
    "if days:\n",
    "    print(\"{} contains {} days\".format(month, days))\n",
    "else:\n",
    "    print(\"Not a valid month\")"
   ]
  },
  {
   "cell_type": "markdown",
   "metadata": {},
   "source": [
    "Q6. The following table lists the sound level in decibels for several common\n",
    "noises.\n",
    "\n",
    "|Noise Decibel | level (dB)|\n",
    "|--------------|-----------|\n",
    "|Jackhammer |130|\n",
    "|Gas lawnmower| 106|\n",
    "|Alarm clock |70|\n",
    "|Quiet room| 40|\n",
    "Write a program that reads a sound level in decibels from the user. If the user\n",
    "enters a decibel level that matches one of the noises in the table then your\n",
    "program should display a message containing only that noise. If the user \n",
    "enters a number of decibels between the noises listed then your program\n",
    "should display a message indicating which noises the level is between. Ensure\n",
    "that your program also generates reasonable output for a value smaller than\n",
    "the quietest noise in the table, and for a value larger than the loudest noise in\n",
    "the table."
   ]
  },
  {
   "cell_type": "code",
   "execution_count": 43,
   "metadata": {},
   "outputs": [
    {
     "name": "stdout",
     "output_type": "stream",
     "text": [
      "Enter the sund level in dB:2\n",
      "Very very quite room\n"
     ]
    }
   ],
   "source": [
    "try:\n",
    "    sound_level = int(input(\"Enter the sund level in dB:\"))\n",
    "    assert sound_level > 0\n",
    "    \n",
    "    if sound_level < 40:\n",
    "        print(\"Very very quite room\")\n",
    "    elif sound_level == 40:\n",
    "        print(\"Quite Room\")\n",
    "    elif sound_level < 70:\n",
    "        print(\"Quite Room - Alarm Clock\")\n",
    "    elif sound_level == 70:\n",
    "        print(\"Alarm clock\")\n",
    "    elif sound_level < 106:\n",
    "        print(\"Alarm clock - Gas lawnmower\")\n",
    "    elif sound_level == 106:\n",
    "        print(\"Gas lawnmower\")\n",
    "    elif sound_level < 130:\n",
    "        print(\"Gas lawnmover - Jackhammer\")\n",
    "    elif sound_level == 130:\n",
    "        print(\"Jackhammer\")\n",
    "    else:\n",
    "        print(\"Close ears and run\")\n",
    "    \n",
    "    \n",
    "except ValueError:\n",
    "    print(\"Please enter integer values only\")\n",
    "except AssertionError:\n",
    "    print(\"Please enter a positive number only\")"
   ]
  },
  {
   "cell_type": "markdown",
   "metadata": {},
   "source": [
    "Q7. The following table lists an octave of music notes, beginning with\n",
    "middle C, along with their frequencies.\n",
    "\n",
    "|Note| Frequency (Hz)|\n",
    "|------|---------|\n",
    "|C4| 261.63|\n",
    "|D4| 293.66|\n",
    "|E4| 329.63|\n",
    "|F4| 349.23|\n",
    "|G4| 392.00|\n",
    "|A4| 440.00|\n",
    "|B4| 493.88|\n",
    "\n",
    "Begin by writing a program that reads the name of a note from the user and\n",
    "displays the note’s frequency. Your program should support all of the notes\n",
    "listed previously.\n",
    "\n",
    "Once you have your program working correctly for the notes listed previously\n",
    "you should add support for all of the notes from C0 to C8. While this could be\n",
    "done by adding many additional cases to your if statement, such a solution is\n",
    "cumbersome, inelegant and unacceptable for the purposes of this exercise.\n",
    "Instead, you should exploit the relationship between notes in adjacent octaves.\n",
    "In particular, the frequency of any note in octave n is half the frequency of the corresponding note in octave (n+1).\n",
    "By using this relationship, you should be able to add support for the additional notes without adding additional cases to your if statement."
   ]
  },
  {
   "cell_type": "code",
   "execution_count": 84,
   "metadata": {},
   "outputs": [
    {
     "name": "stdout",
     "output_type": "stream",
     "text": [
      "Enter the note e.g., C4, G3 etc-\n",
      "Input note:a04\n",
      "a04 has a frequency of 440.0 Hz\n"
     ]
    }
   ],
   "source": [
    "def find_freq(note_input, notes, freq):\n",
    "\n",
    "    index = None\n",
    "\n",
    "    for note in notes:\n",
    "    # finding matching note\n",
    "        if note_input[0].lower() == note[0].lower():\n",
    "            index = notes.index(note)\n",
    "            #print(\"index:\",index)\n",
    "            break\n",
    "\n",
    "    if index is not None:\n",
    "        initial_freq = freq[index]\n",
    "    #checking valid octave\n",
    "        if 0<= int(note_input[1:]) <= 8:\n",
    "        \n",
    "            octave_diff = int(note_input[1:]) - int(notes[index][1])\n",
    "            result_freq = initial_freq * (2 ** octave_diff)\n",
    "            return result_freq\n",
    "        \n",
    "        else:\n",
    "            print(\"Please enter correct Octave\")\n",
    "    else:\n",
    "        print(\"Invalid Note\")\n",
    "    return None\n",
    "\n",
    "# Notes and corresponding frequency tied by index.\n",
    "notes = (\"C4\",\"D4\",\"E4\",\"F4\",\"G4\",\"A4\",\"B4\")\n",
    "freq = (261.63, 293.66, 329.63, 349.23, 392.00, 440.00, 493.88)\n",
    "\n",
    "note_input = input(\"Enter the note e.g., C4, G3 etc-\\nInput note:\")\n",
    "\n",
    "result = find_freq(note_input, notes, freq)\n",
    "\n",
    "if result:\n",
    "    print(\"{} has a frequency of {} Hz\".format(note_input, result))"
   ]
  },
  {
   "cell_type": "markdown",
   "metadata": {},
   "source": [
    "Q8. In the previous question you converted from note name to frequency.\n",
    "In this question you will write a program that reverses that process.\n",
    "Begin by reading a frequency from the user. If the frequency is within\n",
    "one Hertz of a value listed in the table in the previous question then\n",
    "report the name of the note. Otherwise report that the frequency does\n",
    "not correspond to a known note. In this exercise you only need to\n",
    "consider the notes listed in the table. There is no need to consider notes\n",
    "from other octaves.\n"
   ]
  },
  {
   "cell_type": "code",
   "execution_count": 96,
   "metadata": {},
   "outputs": [
    {
     "name": "stdout",
     "output_type": "stream",
     "text": [
      "Enter the frequency to find the correspondin note.\n",
      "Freq:asa\n",
      "Enter numbericals only for frequency\n"
     ]
    }
   ],
   "source": [
    "def find_note(freq_input, freq):\n",
    "    index = None\n",
    "    \n",
    "    for f in freq:\n",
    "        #print(freq_input - 1, f, freq_input + 1)\n",
    "        if (freq_input - 1) <= f <= (freq_input + 1):\n",
    "            index = freq.index(f)\n",
    "            break\n",
    "    return index\n",
    "\n",
    "try:\n",
    "    freq_input = float(input(\"Enter the frequency to find the correspondin note.\\nFreq:\"))\n",
    "    note_index = find_note(freq_input, freq)\n",
    "    \n",
    "    if note_index is not None:\n",
    "        print(\"{}'s frequency is nearby {}Hz\".format(notes[note_index], freq_input))\n",
    "    else:\n",
    "        print(\"No nearest matching note found\")\n",
    "except ValueError:\n",
    "    print(\"Enter numbericals only for frequency\")\n",
    "            "
   ]
  },
  {
   "cell_type": "markdown",
   "metadata": {},
   "source": [
    "The wavelength of visible light ranges from 380 to 750 nanometers\n",
    "(nm). While the spectrum is continuous, it is often divided into 6 colors\n",
    "as shown below:\n",
    "\n",
    "|Color| Wavelength (nm)|\n",
    "|-----|----|\n",
    "|Violet| 380 to less than 450|\n",
    "|Blue| 450 to less than 495|\n",
    "|Green| 495 to less than 570|\n",
    "|Yellow| 570 to less than 590|\n",
    "|Orange| 590 to less than 620|\n",
    "|Red| 620 to 750|\n",
    "\n",
    "Write a program that reads a wavelength from the user and reports its\n",
    "color. Display an appropriate error message if the wavelength entered by the\n",
    "user is outside of the visible spectrum.\n"
   ]
  },
  {
   "cell_type": "code",
   "execution_count": 105,
   "metadata": {},
   "outputs": [
    {
     "name": "stdout",
     "output_type": "stream",
     "text": [
      "Enter the wavelenght to search for color:630\n",
      "Red has the wavelength of 630.0nm\n"
     ]
    }
   ],
   "source": [
    "wavelength_range = (450, 495, 570, 590, 620, 750)\n",
    "spectrum = (\"Violet\", \"Blue\", \"Green\", \n",
    "            \"Yellow\", \"Orange\", \"Red\")\n",
    "\n",
    "try:\n",
    "    wavelength = float(input(\"Enter the wavelenght to search for color:\"))\n",
    "    assert 380 <= wavelength <= 750\n",
    "    \n",
    "    index = 0\n",
    "    \n",
    "    for color_max_wavelength in wavelength_range:\n",
    "        if wavelength > color_max_wavelength:\n",
    "            continue\n",
    "        else:\n",
    "            index = wavelength_range.index(color_max_wavelength)\n",
    "            break\n",
    "        \n",
    "    print(\"{} has the wavelength of {}nm\".format(spectrum[index],wavelength))\n",
    "    \n",
    "except ValueError:\n",
    "    print(\"Enter numbericals only for wavelength\")\n",
    "except AssertionError:\n",
    "    print(\"Wavelength outside visible spectrum\")\n"
   ]
  },
  {
   "cell_type": "code",
   "execution_count": null,
   "metadata": {},
   "outputs": [],
   "source": []
  }
 ],
 "metadata": {
  "kernelspec": {
   "display_name": "Python 3",
   "language": "python",
   "name": "python3"
  },
  "language_info": {
   "codemirror_mode": {
    "name": "ipython",
    "version": 3
   },
   "file_extension": ".py",
   "mimetype": "text/x-python",
   "name": "python",
   "nbconvert_exporter": "python",
   "pygments_lexer": "ipython3",
   "version": "3.6.5"
  }
 },
 "nbformat": 4,
 "nbformat_minor": 2
}
